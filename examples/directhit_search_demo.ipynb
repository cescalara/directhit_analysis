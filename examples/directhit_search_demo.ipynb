{
 "cells": [
  {
   "cell_type": "markdown",
   "metadata": {},
   "source": [
    "# Analysis of direct hit events in EUSO-SPB data\n",
    "\n",
    "A demonstration of the functionality of the DirectHitTools.py"
   ]
  },
  {
   "cell_type": "code",
   "execution_count": 1,
   "metadata": {},
   "outputs": [],
   "source": [
    "%matplotlib inline\n",
    "import sys\n",
    "sys.path.append('../')\n",
    "from direct_hit_tools import DirectHitSearch"
   ]
  },
  {
   "cell_type": "markdown",
   "metadata": {},
   "source": [
    "Set up the search object, open a ROOT file for analysis and print the default search parameters\n",
    "* name of the file currently open\n",
    "* counts_threhsold is used to identify signal over background\n",
    "* duration_threshold is the maximum number of GTU an event can last\n",
    "* min_area is the minimum number of pixels an event must cover\n",
    "* max_sum is the maximum sum of the PDM permitted for the GTU of the event (used to discrimiate between noise events)"
   ]
  },
  {
   "cell_type": "code",
   "execution_count": 2,
   "metadata": {},
   "outputs": [
    {
     "name": "stdout",
     "output_type": "stream",
     "text": [
      "Search paramters:\n",
      "-----------------\n",
      "file:../data/allpackets-SPBEUSO-ACQUISITION-20170428-151019-001.001--LONG.root\n",
      "counts_threshold: 6\n",
      "duration_threshold: 2\n",
      "min_area: 10\n",
      "max_sum: 10000.0\n",
      "pkt_len: 128\n"
     ]
    }
   ],
   "source": [
    "CurrentSearch = DirectHitSearch()\n",
    "\n",
    "filename = '../data/allpackets-SPBEUSO-ACQUISITION-20170428-151019-001.001--LONG.root'\n",
    "with CurrentSearch.open(filename) as myfile:\n",
    "    CurrentSearch.print_search_params()"
   ]
  },
  {
   "cell_type": "markdown",
   "metadata": {},
   "source": [
    "Run the search using these parameters. Properties of Detected events are stored in the lists:\n",
    "* CurrentSearch.event_gtu: the GTU # of the event\n",
    "* CurrentSearch.event_duration: the duration of the event (if < duration_threhsold)\n",
    "* CurrentSearch.event_shape: crude classificaiton between linear and circular events  \n",
    "\n",
    "First, all events above threshold are stored, then the CurrentSearch.rm_long_events() is used to sort these into the stored event lists. The progress bar shows the progress of the CurrentSearch.find_candidates() method, which is the \n",
    "most computationally intensive.\n",
    "\n",
    "The search object can also be used to plot events in the event list, as demonstrated here."
   ]
  },
  {
   "cell_type": "code",
   "execution_count": 3,
   "metadata": {},
   "outputs": [],
   "source": [
    "with CurrentSearch.open(filename) as myfile: \n",
    "\n",
    "    # look for events\n",
    "    detection_gtu = CurrentSearch.find_candidates()\n",
    "\n",
    "    # remove long events\n",
    "    event_gtu, event_duration, event_time = CurrentSearch.rm_long_events(detection_gtu)\n",
    "\n",
    "    # classify shape\n",
    "    event_shape = CurrentSearch.classify_shape(event_gtu)"
   ]
  },
  {
   "cell_type": "markdown",
   "metadata": {},
   "source": [
    "The search object can also be used to plot events in the event list, as demonstrated here."
   ]
  },
  {
   "cell_type": "code",
   "execution_count": null,
   "metadata": {},
   "outputs": [],
   "source": [
    "# plot the events\n",
    "for i, eg in enumerate(event_gtu):\n",
    "    print event_shape[i]\n",
    "    CurrentSearch.plot_focal_surface(eg)\n",
    "    "
   ]
  }
 ],
 "metadata": {
  "kernelspec": {
   "display_name": "Python 2",
   "language": "python",
   "name": "python2"
  },
  "language_info": {
   "codemirror_mode": {
    "name": "ipython",
    "version": 2
   },
   "file_extension": ".py",
   "mimetype": "text/x-python",
   "name": "python",
   "nbconvert_exporter": "python",
   "pygments_lexer": "ipython2",
   "version": "2.7.13"
  }
 },
 "nbformat": 4,
 "nbformat_minor": 2
}
