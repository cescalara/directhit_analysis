{
 "cells": [
  {
   "cell_type": "markdown",
   "metadata": {},
   "source": [
    "# SPB analysis: direct hit events\n",
    "\n",
    "A preliminary study of direct hit events in the SPB data"
   ]
  },
  {
   "cell_type": "code",
   "execution_count": 1,
   "metadata": {},
   "outputs": [],
   "source": [
    "%matplotlib inline\n",
    "import sys\n",
    "sys.path.append('../')\n",
    "from direct_hit_tools import DirectHitSearch"
   ]
  },
  {
   "cell_type": "code",
   "execution_count": 2,
   "metadata": {
    "scrolled": true
   },
   "outputs": [
    {
     "name": "stdout",
     "output_type": "stream",
     "text": [
      "1180 files for analysis\n"
     ]
    }
   ],
   "source": [
    "from os import listdir\n",
    "from os.path import isfile, join\n",
    "\n",
    "# get all the flight data filenames\n",
    "mypath = '/Volumes/eusoFC/data/spb_flight_data/'\n",
    "spb_files = [f for f in listdir(mypath) if isfile(join(mypath, f))]\n",
    "\n",
    "print str(len(spb_files)) + ' files for analysis'"
   ]
  },
  {
   "cell_type": "code",
   "execution_count": 3,
   "metadata": {},
   "outputs": [
    {
     "name": "stdout",
     "output_type": "stream",
     "text": [
      "Search paramters:\n",
      "-----------------\n",
      "file: \n",
      "counts_threshold: 6\n",
      "duration_threshold: 2\n",
      "min_area: 10\n",
      "max_sum: 10000.0\n",
      "pkt_len: 0\n"
     ]
    }
   ],
   "source": [
    "# print default search parameters\n",
    "with DirectHitSearch() as SpbSearch:\n",
    "    SpbSearch.print_search_params()"
   ]
  },
  {
   "cell_type": "code",
   "execution_count": 5,
   "metadata": {},
   "outputs": [
    {
     "data": {
      "application/vnd.jupyter.widget-view+json": {
       "model_id": "8ec1454ac2f448768eebd78f2ae84a8e",
       "version_major": 2,
       "version_minor": 0
      },
      "text/html": [
       "<p>Failed to display Jupyter Widget of type <code>FloatProgress</code>.</p>\n",
       "<p>\n",
       "  If you're reading this message in Jupyter Notebook or JupyterLab, it may mean\n",
       "  that the widgets JavaScript is still loading. If this message persists, it\n",
       "  likely means that the widgets JavaScript library is either not installed or\n",
       "  not enabled. See the <a href=\"https://ipywidgets.readthedocs.io/en/stable/user_install.html\">Jupyter\n",
       "  Widgets Documentation</a> for setup instructions.\n",
       "</p>\n",
       "<p>\n",
       "  If you're reading this message in another notebook frontend (for example, a static\n",
       "  rendering on GitHub or <a href=\"https://nbviewer.jupyter.org/\">NBViewer</a>),\n",
       "  it may mean that your frontend doesn't currently support widgets.\n",
       "</p>\n"
      ],
      "text/plain": [
       "FloatProgress(value=0.0, max=1180.0)"
      ]
     },
     "metadata": {},
     "output_type": "display_data"
    },
    {
     "name": "stdout",
     "output_type": "stream",
     "text": [
      "No tevent TTree found in /Volumes/eusoFC/data/spb_flight_data/.DS_Store\n",
      "No tevent TTree found in /Volumes/eusoFC/data/spb_flight_data/allpackets-SPBEUSO-ACQUISITION-20170425-122911-001.001--CHECK.root\n",
      "No tevent TTree found in /Volumes/eusoFC/data/spb_flight_data/allpackets-SPBEUSO-ACQUISITION-20170425-123123-001.001--CHECK.root\n",
      "No tevent TTree found in /Volumes/eusoFC/data/spb_flight_data/allpackets-SPBEUSO-ACQUISITION-20170425-161206-001.001--CHECK.root\n",
      "No tevent TTree found in /Volumes/eusoFC/data/spb_flight_data/allpackets-SPBEUSO-ACQUISITION-20170425-161531-001.001--CHECK.root\n",
      "No tevent TTree found in /Volumes/eusoFC/data/spb_flight_data/allpackets-SPBEUSO-ACQUISITION-20170425-161617-001.001--CHECK.root\n"
     ]
    }
   ],
   "source": [
    "from ipywidgets import FloatProgress\n",
    "from IPython.display import display\n",
    "\n",
    "prog_bar = FloatProgress(min = 0, max = len(spb_files))\n",
    "display(prog_bar)\n",
    "\n",
    "# run over all files\n",
    "Event_list = []\n",
    "\n",
    "# loop over files\n",
    "for data_file in spb_files:\n",
    "    \n",
    "    # re-initialise object for each file\n",
    "    with DirectHitSearch() as CurrentSearch:\n",
    "        # turn off progress bar for each analysis\n",
    "        CurrentSearch.set_progress = False\n",
    "        \n",
    "        # reset the filename\n",
    "        with CurrentSearch.open(mypath + data_file) as myfile:\n",
    "            if CurrentSearch.set_analysis == True:\n",
    "                # look for events\n",
    "                CurrentSearch.find_candidates()\n",
    "\n",
    "                # classify shape\n",
    "                CurrentSearch.classify_shape()\n",
    "\n",
    "                # package results \n",
    "                CurrentSearch.add_file_summary()\n",
    "\n",
    "                # add analysis to the Event_list\n",
    "                # if events found\n",
    "                if len(CurrentSearch.Events.gtu) > 0:\n",
    "                    Event_list.append(CurrentSearch.Events)\n",
    "                    \n",
    "                \n",
    "    # add to progress\n",
    "    prog_bar.value += 1"
   ]
  },
  {
   "cell_type": "code",
   "execution_count": 6,
   "metadata": {},
   "outputs": [
    {
     "data": {
      "text/plain": [
       "57"
      ]
     },
     "execution_count": 6,
     "metadata": {},
     "output_type": "execute_result"
    }
   ],
   "source": [
    "len(Event_list)"
   ]
  },
  {
   "cell_type": "code",
   "execution_count": 7,
   "metadata": {},
   "outputs": [],
   "source": [
    "# write the results to file\n",
    "import dill as pickle\n",
    "outfilename = '../results/spb_directhit_search_run0.pkl'\n",
    "\n",
    "with open(outfilename, 'w') as f:\n",
    "    pickle.dump(Event_list, f)"
   ]
  },
  {
   "cell_type": "code",
   "execution_count": null,
   "metadata": {},
   "outputs": [],
   "source": [
    "# read the results from the file\n",
    "Event_list = None\n",
    "with open(outfilename, 'r') as f:\n",
    "    Event_list = pickle.load(f)\n",
    "    \n",
    "# do stuff with Event_list"
   ]
  }
 ],
 "metadata": {
  "kernelspec": {
   "display_name": "Python 2",
   "language": "python",
   "name": "python2"
  },
  "language_info": {
   "codemirror_mode": {
    "name": "ipython",
    "version": 2
   },
   "file_extension": ".py",
   "mimetype": "text/x-python",
   "name": "python",
   "nbconvert_exporter": "python",
   "pygments_lexer": "ipython2",
   "version": "2.7.13"
  }
 },
 "nbformat": 4,
 "nbformat_minor": 2
}
