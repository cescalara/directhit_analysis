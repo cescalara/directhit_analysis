{
 "cells": [
  {
   "cell_type": "markdown",
   "metadata": {},
   "source": [
    "# SPB analysis: direct hit events\n",
    "\n",
    "A preliminary study of direct hit events in the SPB data"
   ]
  },
  {
   "cell_type": "code",
   "execution_count": 1,
   "metadata": {},
   "outputs": [],
   "source": [
    "%matplotlib inline\n",
    "import sys\n",
    "sys.path.append('../')\n",
    "from direct_hit_tools import DirectHitSearch"
   ]
  },
  {
   "cell_type": "code",
   "execution_count": 2,
   "metadata": {
    "scrolled": true
   },
   "outputs": [
    {
     "name": "stdout",
     "output_type": "stream",
     "text": [
      "207 files for analysis\n"
     ]
    }
   ],
   "source": [
    "from os import listdir\n",
    "from os.path import isfile, join\n",
    "\n",
    "# get all the flight data filenames\n",
    "mypath = '/Volumes/eusoFC/data/spb_20170428/'\n",
    "spb_files = [f for f in listdir(mypath) if isfile(join(mypath, f))]\n",
    "\n",
    "print str(len(spb_files)) + ' files for analysis'"
   ]
  },
  {
   "cell_type": "code",
   "execution_count": null,
   "metadata": {},
   "outputs": [
    {
     "name": "stdout",
     "output_type": "stream",
     "text": [
      "Search paramters:\n",
      "-----------------\n",
      "file:\n",
      "counts_threshold: 6\n",
      "duration_threshold: 2\n",
      "min_area: 10\n",
      "max_sum: 10000.0\n",
      "pkt_len: 0\n"
     ]
    }
   ],
   "source": [
    "# print default search parameters\n",
    "SpbSearch = DirectHitSearch()\n",
    "SpbSearch.print_search_params()"
   ]
  },
  {
   "cell_type": "code",
   "execution_count": null,
   "metadata": {},
   "outputs": [
    {
     "name": "stderr",
     "output_type": "stream",
     "text": [
      "Widget Javascript not detected.  It may not be installed or enabled properly.\n"
     ]
    },
    {
     "data": {
      "application/vnd.jupyter.widget-view+json": {
       "model_id": "0feda4f3e6d346ce84183d5f59a1bd38"
      }
     },
     "metadata": {},
     "output_type": "display_data"
    },
    {
     "name": "stdout",
     "output_type": "stream",
     "text": [
      "allpackets-SPBEUSO-ACQUISITION-20170428-063140-001.001--CHECK.root\n",
      "('No tevent TTree found in ', '/Volumes/eusoFC/data/spb_20170428/allpackets-SPBEUSO-ACQUISITION-20170428-063140-001.001--CHECK.root')\n",
      "+\n",
      "allpackets-SPBEUSO-ACQUISITION-20170428-063224-001.001--LONG.root\n",
      "find candidates\n",
      "rm long\n",
      "classify shape\n",
      "file summary\n",
      "Event list\n",
      "+\n",
      "allpackets-SPBEUSO-ACQUISITION-20170428-063224-002.001--LONG.root\n",
      "find candidates\n",
      "rm long\n",
      "classify shape\n",
      "file summary\n",
      "Event list\n",
      "+\n",
      "allpackets-SPBEUSO-ACQUISITION-20170428-063224-003.001--LONG.root\n",
      "find candidates\n",
      "rm long\n",
      "classify shape\n",
      "file summary\n",
      "Event list\n",
      "+\n",
      "allpackets-SPBEUSO-ACQUISITION-20170428-063224-004.001--LONG.root\n",
      "find candidates\n",
      "rm long\n",
      "classify shape\n",
      "file summary\n",
      "Event list\n",
      "+\n",
      "allpackets-SPBEUSO-ACQUISITION-20170428-063224-005.001--LONG.root\n",
      "find candidates\n",
      "rm long\n",
      "classify shape\n",
      "file summary\n",
      "Event list\n",
      "+\n",
      "allpackets-SPBEUSO-ACQUISITION-20170428-063224-006.001--LONG.root\n",
      "find candidates\n"
     ]
    }
   ],
   "source": [
    "from ipywidgets import FloatProgress\n",
    "from IPython.display import display\n",
    "\n",
    "prog_bar = FloatProgress(min = 0, max = len(spb_files))\n",
    "display(prog_bar)\n",
    "\n",
    "# run over all files\n",
    "Event_list = []\n",
    "\n",
    "# first try with 3 files\n",
    "for data_file in spb_files[0:30]:\n",
    "#data_file ='allpackets-SPBEUSO-ACQUISITION-20170425-083146-001.001--CHECK.root'\n",
    "#for i in range(1):\n",
    "    print data_file\n",
    "    # create new object for each file\n",
    "    with DirectHitSearch() as CurrentSearch:\n",
    "        CurrentSearch.set_progress = False\n",
    "\n",
    "        with CurrentSearch.open(mypath+data_file) as myfile:\n",
    "            if CurrentSearch.set_analysis == True:\n",
    "                print 'find candidates'\n",
    "                # look for events\n",
    "                detection_gtu, detection_label = CurrentSearch.find_candidates()\n",
    "\n",
    "                print 'rm long'\n",
    "                # remove long events\n",
    "                CurrentSearch.rm_long_events(detection_gtu)\n",
    "\n",
    "                # classify shape\n",
    "                print 'classify shape'\n",
    "                CurrentSearch.classify_shape()\n",
    "\n",
    "                # package results \n",
    "                print 'file summary'\n",
    "                CurrentSearch.add_file_summary()\n",
    "\n",
    "                # add analysis to the Event_list\n",
    "                # if events found\n",
    "                print 'Event list'\n",
    "                if len(CurrentSearch.Events.gtu) > 0:\n",
    "                    Event_list.append(CurrentSearch.Events)\n",
    "                    \n",
    "                CurrentSearch.datafile.Close()\n",
    "                del CurrentSearch\n",
    "\n",
    "    # add to progress\n",
    "    prog_bar.value += 1\n",
    "    print '+'\n",
    "    "
   ]
  },
  {
   "cell_type": "code",
   "execution_count": null,
   "metadata": {},
   "outputs": [],
   "source": [
    "allpackets-SPBEUSO-ACQUISITION-20170428-063224-006.001--LONG.root\n",
    "allpackets-SPBEUSO-ACQUISITION-20170428-063224-007.001--LONG.root\n",
    "# Testbench\n",
    "data_file ='allpackets-SPBEUSO-ACQUISITION-20170425-083146-001.001--CHECK.root'\n",
    "CurrentSearch = DirectHitSearch()\n",
    "print mypath+data_file\n",
    "with CurrentSearch.open(mypath+data_file) as myfile:\n",
    "    CurrentSearch.set_progress = True\n",
    "    detection_gtu, detection_label = CurrentSearch.find_candidates()\n",
    "    \n",
    "\n"
   ]
  },
  {
   "cell_type": "code",
   "execution_count": null,
   "metadata": {},
   "outputs": [],
   "source": [
    "len(Event_list)\n"
   ]
  },
  {
   "cell_type": "code",
   "execution_count": null,
   "metadata": {
    "collapsed": true
   },
   "outputs": [],
   "source": [
    "# write the results to file\n",
    "import dill as pickle\n",
    "outfilename = 'results/spb_directhit_search_run0.pkl'\n",
    "\n",
    "with open(outfilename, 'w') as f:\n",
    "    pickle.dump(Event_list, f)"
   ]
  },
  {
   "cell_type": "code",
   "execution_count": null,
   "metadata": {
    "collapsed": true
   },
   "outputs": [],
   "source": [
    "# read the results from the file\n",
    "Event_list = None\n",
    "with open(outfilename, 'r') as f:\n",
    "    Event_list = pickle.load(f)\n",
    "    \n",
    "# do stuff with Event_list"
   ]
  }
 ],
 "metadata": {
  "kernelspec": {
   "display_name": "Python 2",
   "language": "python",
   "name": "python2"
  },
  "language_info": {
   "codemirror_mode": {
    "name": "ipython",
    "version": 2
   },
   "file_extension": ".py",
   "mimetype": "text/x-python",
   "name": "python",
   "nbconvert_exporter": "python",
   "pygments_lexer": "ipython2",
   "version": "2.7.13"
  }
 },
 "nbformat": 4,
 "nbformat_minor": 2
}
