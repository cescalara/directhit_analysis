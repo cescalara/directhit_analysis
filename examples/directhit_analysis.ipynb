{
 "cells": [
  {
   "cell_type": "markdown",
   "metadata": {},
   "source": [
    "# SPB analysis: direct hit events\n",
    "\n",
    "A preliminary study of direct hit events in the SPB data"
   ]
  },
  {
   "cell_type": "code",
   "execution_count": 1,
   "metadata": {
    "collapsed": true
   },
   "outputs": [],
   "source": [
    "%matplotlib inline\n",
    "import sys\n",
    "sys.path.append('../')\n",
    "from DirectHitTools import DirectHitSearch"
   ]
  },
  {
   "cell_type": "code",
   "execution_count": 2,
   "metadata": {},
   "outputs": [
    {
     "name": "stdout",
     "output_type": "stream",
     "text": [
      "1179 files for analysis\n"
     ]
    }
   ],
   "source": [
    "from os import listdir\n",
    "from os.path import isfile, join\n",
    "\n",
    "# get all the flight data filenames\n",
    "mypath = '/Volumes/eusoFC/data/spb_flight_data/'\n",
    "spb_files = [f for f in listdir(mypath) if isfile(join(mypath, f))]\n",
    "\n",
    "print str(len(spb_files)) + ' files for analysis'"
   ]
  },
  {
   "cell_type": "code",
   "execution_count": 3,
   "metadata": {},
   "outputs": [
    {
     "name": "stdout",
     "output_type": "stream",
     "text": [
      "Search paramters:\n",
      "-----------------\n",
      "file: \n",
      "counts_threshold: 6\n",
      "duration_threshold: 2\n",
      "min_area: 10\n",
      "max_sum: 10000.0\n",
      "pkt_len: 0\n"
     ]
    }
   ],
   "source": [
    "# print default search parameters\n",
    "SpbSearch = DirectHitSearch()\n",
    "SpbSearch.print_search_params()"
   ]
  },
  {
   "cell_type": "code",
   "execution_count": 13,
   "metadata": {},
   "outputs": [
    {
     "data": {
      "application/vnd.jupyter.widget-view+json": {
       "model_id": "f890c9f9c0c8457b8e124a9178f3c30a"
      }
     },
     "metadata": {},
     "output_type": "display_data"
    },
    {
     "data": {
      "application/vnd.jupyter.widget-view+json": {
       "model_id": "4525002a0a8945f5a8f2e0990a7360b6"
      }
     },
     "metadata": {},
     "output_type": "display_data"
    }
   ],
   "source": [
    "from ipywidgets import FloatProgress\n",
    "from IPython.display import display\n",
    "\n",
    "prog = FloatProgress(min = 0, max = len(spb_files))\n",
    "display(prog)\n",
    "\n",
    "# run over all files\n",
    "Event_list = []\n",
    "\n",
    "# first try with 3 files\n",
    "for data_file in spb_files:\n",
    "    \n",
    "    # create new object for each file\n",
    "    CurrentSearch = DirectHitSearch()\n",
    "    CurrentSearch.set_progress = True\n",
    "    \n",
    "    with CurrentSearch.open(mypath+data_file) as myfile:\n",
    "        if CurrentSearch.set_analysis == True:\n",
    "            # look for events\n",
    "            detection_gtu, detection_label = CurrentSearch.find_candidates()\n",
    "\n",
    "            # remove long events\n",
    "            CurrentSearch.rm_long_events(detection_gtu)\n",
    "\n",
    "            # classify shape\n",
    "            CurrentSearch.classify_shape()\n",
    "\n",
    "            # package results \n",
    "            CurrentSearch.add_file_summary()\n",
    "\n",
    "            # add analysis to the Event_list\n",
    "            Event_list.append(CurrentSearch.Events)\n",
    "            \n",
    "    # add to progress\n",
    "    prog.value += 1\n",
    "    "
   ]
  },
  {
   "cell_type": "code",
   "execution_count": null,
   "metadata": {
    "collapsed": true
   },
   "outputs": [],
   "source": [
    "# write the results to file\n",
    "import dill as pickle\n",
    "outfilename = 'results/spb_directhit_search_run0.pkl'\n",
    "\n",
    "with open(outfilename, 'w') as f:\n",
    "    pickle.dump(Event_list, f)"
   ]
  },
  {
   "cell_type": "code",
   "execution_count": null,
   "metadata": {
    "collapsed": true
   },
   "outputs": [],
   "source": [
    "# read the results from the file\n",
    "Event_list = None\n",
    "with open(outfilename, 'r') as f:\n",
    "    Event_list = pickle.load(f)\n",
    "    \n",
    "# do stuff with Event_list"
   ]
  },
  {
   "cell_type": "code",
   "execution_count": null,
   "metadata": {
    "collapsed": true
   },
   "outputs": [],
   "source": []
  }
 ],
 "metadata": {
  "kernelspec": {
   "display_name": "Python 2",
   "language": "python",
   "name": "python2"
  },
  "language_info": {
   "codemirror_mode": {
    "name": "ipython",
    "version": 2
   },
   "file_extension": ".py",
   "mimetype": "text/x-python",
   "name": "python",
   "nbconvert_exporter": "python",
   "pygments_lexer": "ipython2",
   "version": "2.7.13"
  }
 },
 "nbformat": 4,
 "nbformat_minor": 2
}
